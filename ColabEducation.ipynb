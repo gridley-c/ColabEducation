{
  "nbformat": 4,
  "nbformat_minor": 0,
  "metadata": {
    "colab": {
      "name": "ColabEducation.ipynb",
      "provenance": [],
      "authorship_tag": "ABX9TyPikTk7Kxdyh6VA32PpyqVy",
      "include_colab_link": true
    },
    "kernelspec": {
      "name": "python3",
      "display_name": "Python 3"
    }
  },
  "cells": [
    {
      "cell_type": "markdown",
      "metadata": {
        "id": "view-in-github",
        "colab_type": "text"
      },
      "source": [
        "<a href=\"https://colab.research.google.com/github/gridley-c/ColabEducation/blob/master/ColabEducation.ipynb\" target=\"_parent\"><img src=\"https://colab.research.google.com/assets/colab-badge.svg\" alt=\"Open In Colab\"/></a>"
      ]
    },
    {
      "cell_type": "markdown",
      "metadata": {
        "id": "h4WoQq6NCWkx",
        "colab_type": "text"
      },
      "source": [
        ""
      ]
    },
    {
      "cell_type": "code",
      "metadata": {
        "id": "LO_seUCA554O",
        "colab_type": "code",
        "colab": {
          "base_uri": "https://localhost:8080/",
          "height": 79
        },
        "outputId": "f8e5afec-ae26-4f9b-d71e-9ad0e5c0e826"
      },
      "source": [
        "#!python3\n",
        "\n",
        "#simple countdown program\n",
        "\n",
        "import time, subprocess\n",
        "import IPython.display as display\n",
        "\n",
        "timeLeft = 6\n",
        "while timeLeft > 0:\n",
        "  print(timeLeft, end=' ')\n",
        "  time.sleep(1)\n",
        "  timeLeft = timeLeft -1\n",
        "display.Audio(url=\"https://upload.wikimedia.org/wikipedia/commons/0/05/Beep-09.ogg\", autoplay=True)\n",
        "\n"
      ],
      "execution_count": 8,
      "outputs": [
        {
          "output_type": "stream",
          "text": [
            "6 5 4 3 2 1 "
          ],
          "name": "stdout"
        },
        {
          "output_type": "execute_result",
          "data": {
            "text/html": [
              "\n",
              "                <audio controls=\"controls\" autoplay=\"autoplay\">\n",
              "                    <source src=\"https://upload.wikimedia.org/wikipedia/commons/0/05/Beep-09.ogg\" type=\"audio/ogg\" />\n",
              "                    Your browser does not support the audio element.\n",
              "                </audio>\n",
              "              "
            ],
            "text/plain": [
              "<IPython.lib.display.Audio object>"
            ]
          },
          "metadata": {
            "tags": []
          },
          "execution_count": 8
        }
      ]
    }
  ]
}